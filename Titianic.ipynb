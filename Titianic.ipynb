{
 "cells": [
  {
   "cell_type": "code",
   "execution_count": 3,
   "metadata": {},
   "outputs": [
    {
     "name": "stdout",
     "output_type": "stream",
     "text": [
      "     Survived  PassengerId  Pclass      Fare  Embarked   Age\n",
      "0           0          530       2   11.5000       1.0  23.0\n",
      "1           0          466       3    7.0500       1.0  38.0\n",
      "2           0          753       3    9.5000       1.0  33.0\n",
      "3           0          855       2   26.0000       1.0  44.0\n",
      "4           0          333       1  153.4625       1.0  38.0\n",
      "..        ...          ...     ...       ...       ...   ...\n",
      "617         1          609       2   41.5792       2.0  22.0\n",
      "618         0          660       1  113.2750       2.0  58.0\n",
      "619         1           85       2   10.5000       1.0  17.0\n",
      "620         1          521       1   93.5000       1.0  30.0\n",
      "622         1          831       3   14.4542       2.0  15.0\n",
      "\n",
      "[498 rows x 6 columns]\n"
     ]
    }
   ],
   "source": [
    "import numpy as np\n",
    "import pandas as pd\n",
    "import matplotlib.pyplot as plt\n",
    "\n",
    "dane = [\n",
    "    \"Survived\",\n",
    "    \"PassengerId\",\n",
    "    \"Pclass\",\n",
    "    \"Fare\",\n",
    "    \"Embarked\",\n",
    "]\n",
    "\n",
    "def przygotowanie(data):\n",
    "    data[\"Embarked\"] = data[\"Embarked\"].apply(lambda x: 1 if x in [\"S\"] else x)\n",
    "    data[\"Embarked\"] = data[\"Embarked\"].apply(lambda x: 2 if x in [\"C\"] else x)\n",
    "    data[\"Embarked\"] = data[\"Embarked\"].apply(lambda x: 3 if x in [\"Q\"] else x)\n",
    "    data = data.dropna()\n",
    "    return data\n",
    "\n",
    "dataset_filename = \"titanic.tsv\"\n",
    "\n",
    "data = pd.read_csv(\"titanic.tsv\",\n",
    "                   header= 0,\n",
    "                   sep=\"\\t\")\n",
    "columns = data.columns[1:]\n",
    "data = data[dane + [\"Age\"]]\n",
    "data = przygotowanie(data)\n",
    "\n",
    "print(data)\n"
   ]
  }
 ],
 "metadata": {
  "kernelspec": {
   "display_name": "Python 3",
   "language": "python",
   "name": "python3"
  },
  "language_info": {
   "codemirror_mode": {
    "name": "ipython",
    "version": 3
   },
   "file_extension": ".py",
   "mimetype": "text/x-python",
   "name": "python",
   "nbconvert_exporter": "python",
   "pygments_lexer": "ipython3",
   "version": "3.11.2"
  },
  "orig_nbformat": 4
 },
 "nbformat": 4,
 "nbformat_minor": 2
}
